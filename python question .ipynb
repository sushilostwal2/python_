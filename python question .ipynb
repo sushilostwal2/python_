{
 "cells": [
  {
   "cell_type": "code",
   "execution_count": 3,
   "id": "bc505e0c",
   "metadata": {},
   "outputs": [],
   "source": [
    "# diff between python 2 and python 3 \n",
    "# differnce between call  by value and call by refernce \n",
    "# what is lambda reduce , map , filter explaination , with example \n",
    "# diff between strip , split , islnum , isdigit\n",
    "# create a user define list , and find second and 3rd max number in a list \n",
    "# differnce between dictonary , set , normal set , frozen set "
   ]
  },
  {
   "cell_type": "code",
   "execution_count": 4,
   "id": "b8997db2",
   "metadata": {},
   "outputs": [],
   "source": [
    "# Q1. \n",
    "\n",
    "\n",
    "\n",
    "# python 2 = \n",
    "# 1. print statement is used without parentheses.\n",
    "\n",
    "# 2. division between two integers using the '/' operator performs interger division ,\n",
    "# example =( 5/2 = 2)\n",
    "\n",
    "# 3.pyhton 2 has not much laibrary then python 3.\n",
    "\n",
    "\n",
    "\n",
    "# python 3 = \n",
    "# 1. print statement is used with perentheses.\n",
    "\n",
    "# 2. for floating division pyhton 3 introduce '//' operator and '/' operator for integer division \n",
    "# example =( 5/2 = 2) and (5//2 = 2.5)\n",
    "\n",
    "# 3. python 3 has introduce new features and laibraries not persent in python 2\n"
   ]
  },
  {
   "cell_type": "code",
   "execution_count": 5,
   "id": "147662b2",
   "metadata": {},
   "outputs": [],
   "source": [
    "# Q2. \n",
    "\n",
    "\n",
    "# call by value = \n",
    "\n",
    "# 1. which value is passed to the function in call by value , a copy of the actual argument\n",
    "# 2. in call by value any changes to the copy do not affect the original document \n",
    "# 3. the example of programming language those use the call by value c , c++, java \n",
    "\n",
    "\n",
    "\n",
    "# call by referance = \n",
    "\n",
    "# 1. in call by referance when we change in  parameter the function will directly affected \n",
    "# 2. some language will support the call by refenece for example c++\n",
    "\n",
    "\n"
   ]
  },
  {
   "cell_type": "code",
   "execution_count": 6,
   "id": "6782f768",
   "metadata": {},
   "outputs": [
    {
     "name": "stdout",
     "output_type": "stream",
     "text": [
      "The second maximum number is: 25\n",
      "The third maximum number is: 21\n"
     ]
    }
   ],
   "source": [
    "# Q5. \n",
    "\n",
    "\n",
    "user_list = [10, 25, 7, 18, 32, 14, 9, 21]\n",
    "\n",
    "user_list.sort(reverse=True)\n",
    "\n",
    "second_max = user_list[1] if len(user_list) > 1 else None\n",
    "third_max = user_list[2] if len(user_list) > 2 else None\n",
    "\n",
    "if second_max is not None:\n",
    "    print(f\"The second maximum number is: {second_max}\")\n",
    "else:\n",
    "    print(\"There is no second maximum as the list has fewer than 2 elements.\")\n",
    "\n",
    "if third_max is not None:\n",
    "    print(f\"The third maximum number is: {third_max}\")\n",
    "else:\n",
    "    print(\"There is no third maximum as the list has fewer than 3 elements.\")\n",
    "\n"
   ]
  },
  {
   "cell_type": "code",
   "execution_count": 10,
   "id": "557ed5de",
   "metadata": {},
   "outputs": [
    {
     "name": "stdout",
     "output_type": "stream",
     "text": [
      "25\n",
      "[1, 4, 9, 16, 25]\n",
      "[2, 4, 6]\n",
      "120\n"
     ]
    }
   ],
   "source": [
    "# Q3.\n",
    "# lambda function \n",
    "\n",
    "sushil = lambda x: x ** 2\n",
    "print(sushil(5))  \n",
    "\n",
    "\n",
    "\n",
    "\n",
    "# map function \n",
    "\n",
    "numbers = [1, 2, 3, 4, 5]\n",
    "squared_numbers = list(map(lambda x: x ** 2, numbers))\n",
    "print(squared_numbers) \n",
    "\n",
    "\n",
    "\n",
    "\n",
    "# filter function \n",
    "\n",
    "numbers = [1, 2, 3, 4, 5, 6]\n",
    "even_numbers = list(filter(lambda x: x % 2 == 0, numbers))\n",
    "print(even_numbers)  \n",
    "\n",
    "\n",
    "\n",
    "\n",
    "# reduce function \n",
    "\n",
    "from functools import reduce\n",
    "\n",
    "numbers = [1, 2, 3, 4, 5]\n",
    "product = reduce(lambda x, y: x * y, numbers)\n",
    "print(product) \n"
   ]
  },
  {
   "cell_type": "code",
   "execution_count": 17,
   "id": "c829799e",
   "metadata": {},
   "outputs": [
    {
     "name": "stdout",
     "output_type": "stream",
     "text": [
      "Hello, World!\n",
      "['Hello,', 'World!']\n"
     ]
    }
   ],
   "source": [
    "# Q4. \n",
    "\n",
    "# strip = \n",
    "\n",
    "\n",
    "text = \"   Hello, World!   \"\n",
    "stripped_text = text.strip()\n",
    "print(stripped_text) \n",
    "\n",
    "\n",
    "\n",
    "\n",
    "\n",
    "\n",
    "# split = \n",
    "\n",
    "\n",
    "text = \"Hello, World!\"\n",
    "words = text.split()\n",
    "print(words) \n",
    "\n",
    "\n",
    "\n",
    "\n",
    "\n",
    "# isnull = this fuction show the true if in object has null value \n",
    "# isdigit = this function show true if in object has digit  "
   ]
  },
  {
   "cell_type": "code",
   "execution_count": 5,
   "id": "4009e122",
   "metadata": {},
   "outputs": [
    {
     "name": "stdout",
     "output_type": "stream",
     "text": [
      "[5, 10, 17, 20, 30]\n"
     ]
    }
   ],
   "source": [
    "list = [10,20,30,5,17]\n",
    "n = len(list)\n",
    "\n",
    "for i in range(0,n-1):\n",
    "    for j in range(0,n-1-i):\n",
    "        if (list[j] > list[j+1]):\n",
    "            list[j],list[j+1] = list[j+1] , list[j]\n",
    "        \n",
    "    \n",
    "print(list)\n",
    "    \n",
    "    "
   ]
  },
  {
   "cell_type": "code",
   "execution_count": 6,
   "id": "2a7044a3",
   "metadata": {},
   "outputs": [
    {
     "name": "stdout",
     "output_type": "stream",
     "text": [
      "[5, 6, 11, 12, 13]\n"
     ]
    }
   ],
   "source": [
    "def insertionsort(arr):\n",
    "    \n",
    "    n = len(arr)\n",
    "    for i in range(1,n): \n",
    "        \n",
    "        key = arr[i]\n",
    "        j = i-1\n",
    "        \n",
    "        while j >= 0 and arr[j] > key  :\n",
    "            \n",
    "            arr[j+1] = arr[j]\n",
    "            j -= 1\n",
    "        arr[j+1] = key\n",
    "        \n",
    "        \n",
    "arr = [12,11,13,5,6]\n",
    "insertionsort(arr)\n",
    "print(arr)"
   ]
  },
  {
   "cell_type": "code",
   "execution_count": null,
   "id": "95de69ca",
   "metadata": {},
   "outputs": [],
   "source": []
  }
 ],
 "metadata": {
  "kernelspec": {
   "display_name": "Python 3 (ipykernel)",
   "language": "python",
   "name": "python3"
  },
  "language_info": {
   "codemirror_mode": {
    "name": "ipython",
    "version": 3
   },
   "file_extension": ".py",
   "mimetype": "text/x-python",
   "name": "python",
   "nbconvert_exporter": "python",
   "pygments_lexer": "ipython3",
   "version": "3.10.9"
  }
 },
 "nbformat": 4,
 "nbformat_minor": 5
}
