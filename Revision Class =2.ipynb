{
 "cells": [
  {
   "cell_type": "code",
   "execution_count": 20,
   "id": "d815568b",
   "metadata": {},
   "outputs": [
    {
     "name": "stdout",
     "output_type": "stream",
     "text": [
      "Enter the String: sras\n",
      "Not plandrom\n"
     ]
    }
   ],
   "source": [
    "st = input('Enter the String: ')\n",
    "a = 0\n",
    "for i in range(len(st)):\n",
    "    if st[0+i] == st[len(st)-1-i] :\n",
    "        pass\n",
    "    else:\n",
    "        a+=1\n",
    "if a == 0 :\n",
    "    print('Plandrom')\n",
    "else:\n",
    "    print(\"Not plandrom\")"
   ]
  },
  {
   "cell_type": "code",
   "execution_count": 21,
   "id": "8ce7935a",
   "metadata": {},
   "outputs": [
    {
     "name": "stdout",
     "output_type": "stream",
     "text": [
      "Enter a string: sdfgr\n",
      "s\n",
      "r\n"
     ]
    }
   ],
   "source": [
    "a = input(\"Enter a string: \")\n",
    "\n",
    "for i in range(len(a)):\n",
    "    if i == 0 or i == len(a) - 1:\n",
    "        print(a[i])"
   ]
  },
  {
   "cell_type": "code",
   "execution_count": 11,
   "id": "6b25b79c",
   "metadata": {},
   "outputs": [
    {
     "name": "stdout",
     "output_type": "stream",
     "text": [
      "131\n",
      "Plandrom\n"
     ]
    }
   ],
   "source": [
    "num == int(input())\n",
    "a = num\n",
    "b = 0 \n",
    "while(num>0):\n",
    "    z=num%10\n",
    "    b = b*10+z\n",
    "    num = num//10\n",
    "if a == b:\n",
    "    print('Plandrom')\n",
    "else:\n",
    "    print('Not plandrom')"
   ]
  },
  {
   "cell_type": "code",
   "execution_count": 19,
   "id": "092b60fe",
   "metadata": {},
   "outputs": [
    {
     "name": "stdout",
     "output_type": "stream",
     "text": [
      "153\n",
      "Armstron number\n"
     ]
    }
   ],
   "source": [
    "num = int(input())\n",
    "a = num\n",
    "b = 0\n",
    "while (a>0):\n",
    "    n = a%10\n",
    "    b = n**3 +b\n",
    "    a = a//10\n",
    "if num == b:\n",
    "    print('Armstron number')\n",
    "else:\n",
    "    print(\" Not armstorn number\")"
   ]
  },
  {
   "cell_type": "code",
   "execution_count": null,
   "id": "6cb62ff9",
   "metadata": {},
   "outputs": [],
   "source": []
  }
 ],
 "metadata": {
  "kernelspec": {
   "display_name": "Python 3 (ipykernel)",
   "language": "python",
   "name": "python3"
  },
  "language_info": {
   "codemirror_mode": {
    "name": "ipython",
    "version": 3
   },
   "file_extension": ".py",
   "mimetype": "text/x-python",
   "name": "python",
   "nbconvert_exporter": "python",
   "pygments_lexer": "ipython3",
   "version": "3.11.5"
  }
 },
 "nbformat": 4,
 "nbformat_minor": 5
}
