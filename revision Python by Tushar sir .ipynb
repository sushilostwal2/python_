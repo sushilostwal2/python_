{
 "cells": [
  {
   "cell_type": "code",
   "execution_count": 1,
   "id": "729e59b5",
   "metadata": {},
   "outputs": [
    {
     "name": "stdout",
     "output_type": "stream",
     "text": [
      "*** \n",
      "*** \n",
      "*** \n",
      "*** \n"
     ]
    }
   ],
   "source": [
    "for i in range (1,5):\n",
    "    for j in range (1,4):\n",
    "        print(\"*\",end = \"\")\n",
    "        \n",
    "    print(\" \")"
   ]
  },
  {
   "cell_type": "code",
   "execution_count": 2,
   "id": "6ad5705f",
   "metadata": {},
   "outputs": [
    {
     "name": "stdout",
     "output_type": "stream",
     "text": [
      "1\n",
      "*** \n",
      "2\n",
      "*** \n",
      "3\n",
      "*** \n",
      "4\n",
      "*** \n"
     ]
    }
   ],
   "source": [
    "for i in range (1,5):\n",
    "    print(i)\n",
    "    for j in range (1,4):\n",
    "        print(\"*\",end = \"\")\n",
    "        \n",
    "    print(\" \")"
   ]
  },
  {
   "cell_type": "code",
   "execution_count": 3,
   "id": "f2e411a2",
   "metadata": {},
   "outputs": [
    {
     "name": "stdout",
     "output_type": "stream",
     "text": [
      "*\n",
      "**\n",
      "***\n",
      "****\n"
     ]
    }
   ],
   "source": [
    "for i in range (1,5):\n",
    "    for j in range (0,i):\n",
    "        print(\"*\",end = \"\")\n",
    "        \n",
    "    print(\"\")"
   ]
  },
  {
   "cell_type": "code",
   "execution_count": 4,
   "id": "3210a215",
   "metadata": {},
   "outputs": [
    {
     "name": "stdout",
     "output_type": "stream",
     "text": [
      "*\n",
      "**\n",
      "***\n",
      "****\n"
     ]
    }
   ],
   "source": [
    "for i in range (1,5):\n",
    "    for j in range (1,i+1):\n",
    "        print(\"*\",end = \"\")\n",
    "        \n",
    "    print(\"\")"
   ]
  },
  {
   "cell_type": "code",
   "execution_count": 5,
   "id": "3d3e7b8d",
   "metadata": {},
   "outputs": [
    {
     "name": "stdout",
     "output_type": "stream",
     "text": [
      "****\n",
      "***\n",
      "**\n",
      "*\n"
     ]
    }
   ],
   "source": [
    "for i in range (5,1,-1):\n",
    "    for j in range (1,i):\n",
    "        print(\"*\",end = \"\")\n",
    "        \n",
    "    print(\"\")"
   ]
  },
  {
   "cell_type": "code",
   "execution_count": 6,
   "id": "700a9fb0",
   "metadata": {},
   "outputs": [
    {
     "name": "stdout",
     "output_type": "stream",
     "text": [
      "1\n",
      "22\n",
      "333\n",
      "4444\n"
     ]
    }
   ],
   "source": [
    "for i in range (1,5):\n",
    "    for j in range (0,i):\n",
    "        print(i,end = \"\")\n",
    "        \n",
    "    print(\"\")"
   ]
  },
  {
   "cell_type": "code",
   "execution_count": 7,
   "id": "e92215e3",
   "metadata": {},
   "outputs": [
    {
     "name": "stdout",
     "output_type": "stream",
     "text": [
      "1\n",
      "12\n",
      "123\n",
      "1234\n"
     ]
    }
   ],
   "source": [
    "for i in range (1,5):\n",
    "    for j in range (1,i+1):\n",
    "        print(j,end = \"\")\n",
    "        \n",
    "    print(\"\")"
   ]
  },
  {
   "cell_type": "code",
   "execution_count": 8,
   "id": "22cef266",
   "metadata": {},
   "outputs": [
    {
     "name": "stdout",
     "output_type": "stream",
     "text": [
      "5\n",
      "\n",
      "*\n",
      "**\n",
      "***\n",
      "****\n"
     ]
    }
   ],
   "source": [
    "n = int(input())\n",
    "\n",
    "for i in range (0,n):\n",
    "    for j in range (1,i+1):\n",
    "        print(\"*\",end = \"\")\n",
    "        \n",
    "    print(\"\")"
   ]
  },
  {
   "cell_type": "code",
   "execution_count": 44,
   "id": "5db4026f",
   "metadata": {},
   "outputs": [
    {
     "name": "stdout",
     "output_type": "stream",
     "text": [
      "10\n",
      "1111\n",
      "121212\n",
      "13131313\n"
     ]
    }
   ],
   "source": [
    "x = 10 \n",
    "for i in range (1,5):\n",
    " \n",
    "    for j in range (1,i+1):\n",
    "        print(x,end = \"\")\n",
    "        \n",
    "    print(\"\")\n",
    "    x+=1"
   ]
  },
  {
   "cell_type": "code",
   "execution_count": 10,
   "id": "d69b8247",
   "metadata": {},
   "outputs": [
    {
     "name": "stdout",
     "output_type": "stream",
     "text": [
      "5\n",
      "\n",
      "10\n",
      "1112\n",
      "131415\n",
      "16171819\n",
      "2021222324\n"
     ]
    }
   ],
   "source": [
    "x = 10 \n",
    "n=int(input())\n",
    "print(\"\")\n",
    "\n",
    "for i in range (1,n+1):\n",
    " \n",
    "    for j in range (1,i+1):\n",
    "        print(x,end = \"\")\n",
    "        x+=1\n",
    "    print(\"\")\n",
    "    "
   ]
  },
  {
   "cell_type": "code",
   "execution_count": null,
   "id": "099dd399",
   "metadata": {},
   "outputs": [],
   "source": []
  },
  {
   "cell_type": "code",
   "execution_count": 11,
   "id": "50620a2f",
   "metadata": {},
   "outputs": [
    {
     "name": "stdout",
     "output_type": "stream",
     "text": [
      "****\n",
      "***\n",
      "**\n",
      "*\n"
     ]
    }
   ],
   "source": [
    "for i in range (5,1,-1):\n",
    "    for j in range (1,i):\n",
    "        print(\"*\",end = \"\")\n",
    "        \n",
    "    print(\"\")"
   ]
  },
  {
   "cell_type": "code",
   "execution_count": 12,
   "id": "b793d53d",
   "metadata": {},
   "outputs": [
    {
     "name": "stdout",
     "output_type": "stream",
     "text": [
      "1\n",
      "21\n",
      "321\n",
      "4321\n"
     ]
    }
   ],
   "source": [
    "\n",
    "for i in range (1,5):\n",
    " \n",
    "    for j in range (i,0,-1):\n",
    "        print(j,end = \"\")\n",
    "        \n",
    "    print(\"\")\n",
    "    "
   ]
  },
  {
   "cell_type": "code",
   "execution_count": 13,
   "id": "d423b85a",
   "metadata": {},
   "outputs": [
    {
     "name": "stdout",
     "output_type": "stream",
     "text": [
      "\n",
      "\n",
      "\n",
      "\n"
     ]
    }
   ],
   "source": [
    "\n",
    "for i in range (1,5):\n",
    " \n",
    "    for j in range (i,1):\n",
    "        print(j,end = \"\")\n",
    "        \n",
    "    print(\"\")\n",
    "    "
   ]
  },
  {
   "cell_type": "code",
   "execution_count": 14,
   "id": "ab681e5c",
   "metadata": {},
   "outputs": [
    {
     "name": "stdout",
     "output_type": "stream",
     "text": [
      "20202020\n",
      "191919\n",
      "1818\n",
      "17\n"
     ]
    }
   ],
   "source": [
    "n= 20 \n",
    "\n",
    "for i in range (5,1,-1):\n",
    "    for j in range (1,i):\n",
    "        print(n,end=\"\")\n",
    "        \n",
    "    print(\"\")\n",
    "    n=n-1"
   ]
  },
  {
   "cell_type": "code",
   "execution_count": 15,
   "id": "1d0f58ee",
   "metadata": {},
   "outputs": [
    {
     "name": "stdout",
     "output_type": "stream",
     "text": [
      "14141414\n",
      "121212\n",
      "1010\n",
      "8\n"
     ]
    }
   ],
   "source": [
    "n= 14\n",
    "\n",
    "for i in range (5,1,-1):\n",
    "    for j in range (1,i):\n",
    "        print(n,end=\"\")\n",
    "        \n",
    "    print(\"\")\n",
    "    n=n-2"
   ]
  },
  {
   "cell_type": "code",
   "execution_count": 16,
   "id": "c2981231",
   "metadata": {},
   "outputs": [
    {
     "name": "stdout",
     "output_type": "stream",
     "text": [
      "14 \n",
      "14 12 \n",
      "14 12 10 \n",
      "14 12 10 8 \n"
     ]
    }
   ],
   "source": [
    "\n",
    "for i in range (1,5):\n",
    "    n=14\n",
    "    for j in range (i,0,-1):\n",
    "        print(n,end = \" \")\n",
    "        n=n-2\n",
    "    print(\"\")\n"
   ]
  },
  {
   "cell_type": "code",
   "execution_count": 17,
   "id": "e92c72ae",
   "metadata": {},
   "outputs": [
    {
     "name": "stdout",
     "output_type": "stream",
     "text": [
      "0 \n",
      "0 1 \n",
      "0 2 4 \n",
      "0 3 6 9 \n",
      "0 4 8 12 16 \n"
     ]
    }
   ],
   "source": [
    "\n",
    "for i in range (0,5):\n",
    "    n=0\n",
    "    for j in range (0,i+1):\n",
    "        print(n*i,end = \" \")\n",
    "        n=n+1\n",
    "    print(\"\")\n"
   ]
  },
  {
   "cell_type": "code",
   "execution_count": 18,
   "id": "f4154978",
   "metadata": {},
   "outputs": [
    {
     "name": "stdout",
     "output_type": "stream",
     "text": [
      "A \n",
      "A B \n",
      "A B C \n",
      "A B C D \n"
     ]
    }
   ],
   "source": [
    "for i in range (65,69):\n",
    "    for i in range(65,i+1):\n",
    "        print(chr(i),end=\" \")\n",
    "        \n",
    "    print(\"\")"
   ]
  },
  {
   "cell_type": "code",
   "execution_count": 19,
   "id": "f4d7b40d",
   "metadata": {},
   "outputs": [
    {
     "name": "stdout",
     "output_type": "stream",
     "text": [
      "   *\n",
      "  **\n",
      " ***\n",
      "****\n"
     ]
    }
   ],
   "source": [
    "for i in range (1,5):\n",
    "    for j in range(4,i,-1):\n",
    "        print(\" \",end=\"\")\n",
    "        \n",
    "    for k in range(0,i):\n",
    "        print(\"*\",end=\"\")\n",
    "    print(\"\")"
   ]
  },
  {
   "cell_type": "code",
   "execution_count": 20,
   "id": "09e6994a",
   "metadata": {},
   "outputs": [
    {
     "name": "stdout",
     "output_type": "stream",
     "text": [
      "$$$*\n",
      "$$**\n",
      "$***\n",
      "****\n"
     ]
    }
   ],
   "source": [
    "for i in range (1,5):\n",
    "    for j in range(4,i,-1):\n",
    "        print(\"$\",end=\"\")\n",
    "        \n",
    "    for k in range(0,i):\n",
    "        print(\"*\",end=\"\")\n",
    "    print(\"\")"
   ]
  },
  {
   "cell_type": "code",
   "execution_count": 21,
   "id": "e6d46d68",
   "metadata": {},
   "outputs": [
    {
     "name": "stdout",
     "output_type": "stream",
     "text": [
      "   Z\n",
      "  YX\n",
      " WVU\n",
      "TSRQ\n"
     ]
    }
   ],
   "source": [
    "x= 90\n",
    "\n",
    "for i in range (1,5):\n",
    "    for j in range(4,i,-1):\n",
    "        print(\" \",end=\"\")\n",
    "        \n",
    "    for k in range(0,i):\n",
    "        print(chr(x),end=\"\")\n",
    "        x=x-1\n",
    "    print(\"\")\n",
    "    "
   ]
  },
  {
   "cell_type": "code",
   "execution_count": 22,
   "id": "ac8a0a80",
   "metadata": {},
   "outputs": [
    {
     "name": "stdout",
     "output_type": "stream",
     "text": [
      "      11\n",
      "    1213\n",
      "  141516\n",
      "17181920\n"
     ]
    }
   ],
   "source": [
    "x= 11\n",
    "\n",
    "for i in range (1,5):\n",
    "    for j in range(4,i,-1):\n",
    "        print(\"  \",end=\"\")\n",
    "        \n",
    "    for k in range(0,i):\n",
    "        print(x,end=\"\")\n",
    "        x=x+1\n",
    "    print(\"\")\n",
    "    "
   ]
  },
  {
   "cell_type": "code",
   "execution_count": 23,
   "id": "6ad1f252",
   "metadata": {},
   "outputs": [
    {
     "name": "stdout",
     "output_type": "stream",
     "text": [
      "1 \n",
      "4 2 \n",
      "9 6 3 \n",
      "16 12 8 4 \n"
     ]
    }
   ],
   "source": [
    "\n",
    "for i in range (1,5):\n",
    "    \n",
    "    for j in range (i,0,-1):\n",
    "        print(i*j,end = \" \")\n",
    "        \n",
    "    print(\"\")\n"
   ]
  },
  {
   "cell_type": "code",
   "execution_count": 24,
   "id": "b09cb2d1",
   "metadata": {},
   "outputs": [
    {
     "name": "stdout",
     "output_type": "stream",
     "text": [
      "1 \n",
      "2 4 \n",
      "3 6 9 \n"
     ]
    }
   ],
   "source": [
    "\n",
    "for i in range (1,4):\n",
    "    \n",
    "    for j in range (1,i+1):\n",
    "        print(i*j,end = \" \")\n",
    "        \n",
    "    print(\"\")\n"
   ]
  },
  {
   "cell_type": "code",
   "execution_count": 25,
   "id": "761ddeed",
   "metadata": {},
   "outputs": [
    {
     "name": "stdout",
     "output_type": "stream",
     "text": [
      "*\n",
      "**\n",
      "****\n",
      "********\n"
     ]
    }
   ],
   "source": [
    "x = 1\n",
    "\n",
    "for i in range (4):\n",
    "    for j in range(x):\n",
    "        print(\"*\",end=\"\")\n",
    "        \n",
    "    x*=2\n",
    "    print(\"\")"
   ]
  },
  {
   "cell_type": "code",
   "execution_count": null,
   "id": "e6e3ffdf",
   "metadata": {},
   "outputs": [],
   "source": []
  },
  {
   "cell_type": "markdown",
   "id": "9b74ab95",
   "metadata": {},
   "source": [
    "# practice "
   ]
  },
  {
   "cell_type": "markdown",
   "id": "d5b98943",
   "metadata": {},
   "source": [
    "n=int(input())\n",
    "\n",
    "\n",
    "for i in range(0,n):\n",
    "    for j in range (1,4):\n",
    "        print(\"*\",end = \"\")\n",
    "    print(\"\")"
   ]
  },
  {
   "cell_type": "code",
   "execution_count": 45,
   "id": "4853d1b7",
   "metadata": {},
   "outputs": [
    {
     "name": "stdout",
     "output_type": "stream",
     "text": [
      "5\n",
      "*\n",
      "**\n",
      "***\n",
      "****\n",
      "*****\n"
     ]
    }
   ],
   "source": [
    "n = int(input())\n",
    "\n",
    "for i in range(0,n):\n",
    "    for i in range (0,i+1):\n",
    "        print(\"*\",end = \"\")\n",
    "        \n",
    "    print(\"\")\n",
    "        \n",
    "        "
   ]
  },
  {
   "cell_type": "code",
   "execution_count": 47,
   "id": "157e9c1f",
   "metadata": {},
   "outputs": [
    {
     "name": "stdout",
     "output_type": "stream",
     "text": [
      "5\n",
      "*****\n",
      "****\n",
      "***\n",
      "**\n",
      "*\n"
     ]
    }
   ],
   "source": [
    "n = int(input())\n",
    "\n",
    "for i in range(0,n):\n",
    "    for j in range (n,i,-1):\n",
    "        print(\"*\",end = \"\")\n",
    "        \n",
    "    print(\"\")"
   ]
  },
  {
   "cell_type": "code",
   "execution_count": 48,
   "id": "e2e87864",
   "metadata": {},
   "outputs": [
    {
     "name": "stdout",
     "output_type": "stream",
     "text": [
      "5\n",
      "     *\n",
      "    **\n",
      "   ***\n",
      "  ****\n",
      " *****\n"
     ]
    }
   ],
   "source": [
    "n = int(input())\n",
    "\n",
    "for i in range(0,n):\n",
    "    for j in range(0,n-i):\n",
    "        print(\" \",end=\"\")\n",
    "        \n",
    "    for k in range(0,i+1):\n",
    "        print(\"*\",end =\"\")\n",
    "        \n",
    "    print(\"\")"
   ]
  },
  {
   "cell_type": "code",
   "execution_count": 49,
   "id": "568438ff",
   "metadata": {},
   "outputs": [
    {
     "name": "stdout",
     "output_type": "stream",
     "text": [
      "5\n",
      "*****\n",
      " ****\n",
      "  ***\n",
      "   **\n",
      "    *\n"
     ]
    }
   ],
   "source": [
    "n = int(input())\n",
    "\n",
    "for i in range (0,n):\n",
    "    for j in range(0,i):\n",
    "        print(\" \",end = \"\")\n",
    "        \n",
    "    for k in range(0,n-i):\n",
    "        print(\"*\",end = \"\")\n",
    "        \n",
    "    print(\"\")"
   ]
  },
  {
   "cell_type": "code",
   "execution_count": 50,
   "id": "ca41f891",
   "metadata": {},
   "outputs": [
    {
     "name": "stdout",
     "output_type": "stream",
     "text": [
      "5\n",
      "1\n",
      "22\n",
      "333\n",
      "4444\n",
      "55555\n"
     ]
    }
   ],
   "source": [
    "n = int(input())\n",
    "\n",
    "for i in range(0,n):\n",
    "    for j in range(0,i+1):\n",
    "        print(i+1,end = \"\")\n",
    "        \n",
    "    print(\"\")\n",
    "    "
   ]
  },
  {
   "cell_type": "code",
   "execution_count": 51,
   "id": "d239ce2b",
   "metadata": {},
   "outputs": [
    {
     "name": "stdout",
     "output_type": "stream",
     "text": [
      "5\n",
      "1\n",
      "12\n",
      "123\n",
      "1234\n",
      "12345\n"
     ]
    }
   ],
   "source": [
    "n = int(input())\n",
    "\n",
    "for i in range(1,n+1):\n",
    "    for j in range(1,i+1):\n",
    "        print(j,end=\"\")\n",
    "    i=i+1\n",
    "    \n",
    "    print(\"\")"
   ]
  },
  {
   "cell_type": "code",
   "execution_count": 52,
   "id": "eaa0cab0",
   "metadata": {},
   "outputs": [
    {
     "name": "stdout",
     "output_type": "stream",
     "text": [
      "5\n",
      "     *\n",
      "    **\n",
      "   ***\n",
      "  ****\n",
      " *****\n"
     ]
    }
   ],
   "source": [
    "n = int(input())\n",
    "\n",
    "for i in range(0,n):\n",
    "    for j in range(0,n-i):\n",
    "        print(\" \",end = \"\")\n",
    "    for k in range(0,i+1):\n",
    "        print(\"*\",end = \"\")\n",
    "        \n",
    "    print(\"\")\n",
    "        "
   ]
  },
  {
   "cell_type": "code",
   "execution_count": 53,
   "id": "618c01d5",
   "metadata": {},
   "outputs": [
    {
     "name": "stdout",
     "output_type": "stream",
     "text": [
      "5\n",
      "*\n",
      "**\n",
      "* *\n",
      "*  *\n",
      "*****\n"
     ]
    }
   ],
   "source": [
    "n = int(input())\n",
    "for i in range(1,n+1):\n",
    "    for j in range(1,i+1):\n",
    "        if (j==1 or i==n or i==j):\n",
    "            print(\"*\",end = \"\")\n",
    "        else :\n",
    "            print(\" \",end = \"\")\n",
    "        \n",
    "            \n",
    "    print(\"\")"
   ]
  },
  {
   "cell_type": "code",
   "execution_count": 54,
   "id": "2ac2bf02",
   "metadata": {},
   "outputs": [
    {
     "name": "stdout",
     "output_type": "stream",
     "text": [
      "5\n",
      "     *\n",
      "    **\n",
      "   * *\n",
      "  *  *\n",
      " *****\n"
     ]
    }
   ],
   "source": [
    "n = int(input())\n",
    "\n",
    "for i in range(1,n+1):\n",
    "    for j in range(n+1,i,-1):\n",
    "        print(\" \",end = \"\")\n",
    "    for k in range(1,i+1):\n",
    "        if ( k==1 or k==i or i==n ):\n",
    "            print(\"*\",end = \"\")\n",
    "                \n",
    "        else:\n",
    "            print(\" \",end = \"\")\n",
    "                \n",
    "    print(\"\")"
   ]
  },
  {
   "cell_type": "code",
   "execution_count": 55,
   "id": "78764657",
   "metadata": {},
   "outputs": [
    {
     "name": "stdout",
     "output_type": "stream",
     "text": [
      "5\n",
      "*\n",
      "**\n",
      "* *\n",
      "*  *\n",
      "*****\n"
     ]
    }
   ],
   "source": [
    "n = int(input())\n",
    "for i in range(1,n+1):\n",
    "    for j in range(1,i+1):\n",
    "        if (j==1 or i==n or i==j):\n",
    "            print(\"*\",end = \"\")\n",
    "        else :\n",
    "            print(\" \",end = \"\")\n",
    "        \n",
    "            \n",
    "    print(\"\")"
   ]
  },
  {
   "cell_type": "code",
   "execution_count": 56,
   "id": "9a3700d1",
   "metadata": {},
   "outputs": [
    {
     "name": "stdout",
     "output_type": "stream",
     "text": [
      "5\n",
      "     * \n",
      "    * * \n",
      "   *   * \n",
      "  *     * \n",
      " * * * * * \n"
     ]
    }
   ],
   "source": [
    "n = int(input())\n",
    "\n",
    "for i in range(1,n+1):\n",
    "    for j in range(n+1,i,-1):\n",
    "        print(\" \",end = \"\")\n",
    "    for k in range(1,i+1):\n",
    "        if ( k==1 or k==i or i==n ):\n",
    "            print(\"*\",end = \" \")\n",
    "                \n",
    "        else:\n",
    "            print(\" \",end = \" \")\n",
    "                \n",
    "    print(\"\")"
   ]
  },
  {
   "cell_type": "code",
   "execution_count": 57,
   "id": "bfc47370",
   "metadata": {},
   "outputs": [
    {
     "name": "stdout",
     "output_type": "stream",
     "text": [
      "5\n",
      "*****\n",
      "*  *\n",
      "* *\n",
      "**\n",
      "*\n"
     ]
    }
   ],
   "source": [
    "n = int(input())\n",
    "for i in range(1,n+1):\n",
    "    for j in range(n+1,i,-1):\n",
    "        if (i==1 or j==n+1 or j==i+1 ):\n",
    "            print(\"*\",end = \"\")\n",
    "        else :\n",
    "            print(\" \",end = \"\")\n",
    "        \n",
    "            \n",
    "    print(\"\")"
   ]
  },
  {
   "cell_type": "code",
   "execution_count": 58,
   "id": "7b33c9cc",
   "metadata": {},
   "outputs": [
    {
     "name": "stdout",
     "output_type": "stream",
     "text": [
      "5\n",
      "***** \n",
      " *  * \n",
      "  * * \n",
      "   ** \n",
      "    * \n"
     ]
    }
   ],
   "source": [
    "n = int(input())\n",
    "\n",
    "for i in range(1,n+1):\n",
    "    for j in range(1,i):\n",
    "        print(\" \",end = \"\")\n",
    "        \n",
    "    for k in range(n+1,i,-1):\n",
    "        if (i==1 or  k==n+1 or k==i+1):\n",
    "        \n",
    "            print(\"*\",end =\"\")\n",
    "        else:\n",
    "            print(\" \",end = \"\")\n",
    "            \n",
    "    print(\" \")"
   ]
  },
  {
   "cell_type": "code",
   "execution_count": 59,
   "id": "29c88834",
   "metadata": {},
   "outputs": [
    {
     "name": "stdout",
     "output_type": "stream",
     "text": [
      "5\n",
      "* * * * *  \n",
      "* * * * *  \n",
      "* * * * *  \n",
      "* * * * *  \n",
      "* * * * *  \n"
     ]
    }
   ],
   "source": [
    "n = int(input())\n",
    "\n",
    "for i in range(0,n):\n",
    "    for j in range(0,n):\n",
    "        print(\"*\",end = \" \")\n",
    "        \n",
    "    print(\" \")"
   ]
  },
  {
   "cell_type": "code",
   "execution_count": 60,
   "id": "f2cfcf1e",
   "metadata": {},
   "outputs": [
    {
     "name": "stdout",
     "output_type": "stream",
     "text": [
      "5\n",
      "* * * * *  \n",
      "*       *  \n",
      "*       *  \n",
      "*       *  \n",
      "* * * * *  \n"
     ]
    }
   ],
   "source": [
    "n = int(input())\n",
    "\n",
    "for i in range(0,n):\n",
    "    for j in range(0,n):\n",
    "        if (j==0 or i==0 or i==n-1 or j==n-1 ):\n",
    "            print(\"*\",end = \" \")\n",
    "        else:\n",
    "            print(\" \",end = \" \")\n",
    "        \n",
    "    print(\" \")"
   ]
  },
  {
   "cell_type": "code",
   "execution_count": 120,
   "id": "1c0e002f",
   "metadata": {},
   "outputs": [
    {
     "name": "stdout",
     "output_type": "stream",
     "text": [
      "4\n",
      "    * \n",
      "   * * \n",
      "  *   * \n",
      " * * * * \n"
     ]
    }
   ],
   "source": [
    "n = int(input())\n",
    "\n",
    "for i in range(1,n+1):\n",
    "    for j in range(n+1,i,-1):\n",
    "        print(\" \",end = \"\")\n",
    "    for k in range(1,i+1):\n",
    "        if ( k==1 or k==i or i==n ):\n",
    "            print(\"*\",end = \" \")\n",
    "                \n",
    "        else:\n",
    "            print(\" \",end = \" \")\n",
    "                \n",
    "    print(\"\")"
   ]
  },
  {
   "cell_type": "markdown",
   "id": "39ba17ac",
   "metadata": {},
   "source": [
    "# Questions "
   ]
  },
  {
   "cell_type": "code",
   "execution_count": 141,
   "id": "c7fd0066",
   "metadata": {},
   "outputs": [
    {
     "name": "stdout",
     "output_type": "stream",
     "text": [
      "5\n",
      "1\n",
      "12\n",
      "1 3\n",
      "1  4\n",
      "12345\n"
     ]
    }
   ],
   "source": [
    "n = int(input())\n",
    "\n",
    "for i in range(1,n+1):\n",
    "    for j in range(1,i+1):\n",
    "        if((i!=1 and i!=2 and i!=n and j!=1 and j!=i) ):\n",
    "            print(\" \",end = \"\")\n",
    "        else :\n",
    "            \n",
    "            \n",
    "            print(j,end=\"\")\n",
    "           \n",
    "\n",
    "    \n",
    "    print(\"\")"
   ]
  },
  {
   "cell_type": "code",
   "execution_count": 154,
   "id": "33f85289",
   "metadata": {},
   "outputs": [
    {
     "name": "stdout",
     "output_type": "stream",
     "text": [
      "9\n",
      "999999999\n",
      " 8      8\n",
      "  7     7\n",
      "   6    6\n",
      "    5   5\n",
      "     4  4\n",
      "      3 3\n",
      "       22\n",
      "        1\n"
     ]
    }
   ],
   "source": [
    "n = int(input())\n",
    "x=n\n",
    "\n",
    "for i in range (0,n):\n",
    "    for j in range(0,i):\n",
    "        print(\" \",end = \"\")\n",
    "    for k in range (0,n-i):\n",
    "        if(i!=0 and i!=n-1 and i!=n-2 and k!=0 and k!= n-i-1):\n",
    "            print(\" \",end =\"\")\n",
    "        else:\n",
    "            print(x,end = \"\")\n",
    "        \n",
    "    x= x-1\n",
    "    print(\"\")"
   ]
  },
  {
   "cell_type": "code",
   "execution_count": 163,
   "id": "6a9a2ac6",
   "metadata": {},
   "outputs": [
    {
     "name": "stdout",
     "output_type": "stream",
     "text": [
      "4\n",
      "    * \n",
      "   * * \n",
      "  * * * \n",
      " * * * * \n"
     ]
    }
   ],
   "source": [
    "n = int(input())\n",
    "\n",
    "for i in range(1,n+1):\n",
    "    for j in range(n+1,i,-1):\n",
    "        print(\" \",end = \"\")\n",
    "    for k in range(1,i+1):\n",
    "        if ( k==1 or k==i or i==n or i==n-1  ):\n",
    "            print(\"*\",end = \" \")\n",
    "                \n",
    "        else:\n",
    "            print(\" \",end = \" \")\n",
    "                \n",
    "    print(\"\")"
   ]
  },
  {
   "cell_type": "code",
   "execution_count": 127,
   "id": "7482dd43",
   "metadata": {},
   "outputs": [
    {
     "name": "stdout",
     "output_type": "stream",
     "text": [
      "7\n",
      "       * \n",
      "      * * \n",
      "     *   * \n",
      "    *     * \n",
      "   *       * \n",
      "  *         * \n",
      " * * * * * * * \n"
     ]
    }
   ],
   "source": [
    "n = int(input())\n",
    "\n",
    "for i in range(1,n+1):\n",
    "    for j in range(n+1,i,-1):\n",
    "        print(\" \",end = \"\")\n",
    "    for k in range(1,i+1):\n",
    "        if ( k==1 or k==i or i==n or i==n-i ):\n",
    "            print(\"*\",end = \" \")\n",
    "                \n",
    "        else:\n",
    "            print(\" \",end = \" \")\n",
    "                \n",
    "    print(\"\")"
   ]
  },
  {
   "cell_type": "code",
   "execution_count": 133,
   "id": "779a22db",
   "metadata": {},
   "outputs": [
    {
     "name": "stdout",
     "output_type": "stream",
     "text": [
      "5\n",
      "1 \n",
      " \n",
      "333 \n",
      " \n",
      "55555 \n"
     ]
    }
   ],
   "source": [
    "n=int(input())\n",
    "x = 1\n",
    "for i in range (1,6):\n",
    "    for j in range(1,i+1):\n",
    "        if(i%2!=0 and ):\n",
    "            print(x,end = \"\")\n",
    "    x=x+1\n",
    "    print(\" \")"
   ]
  },
  {
   "cell_type": "code",
   "execution_count": 155,
   "id": "71f32769",
   "metadata": {},
   "outputs": [
    {
     "name": "stdout",
     "output_type": "stream",
     "text": [
      "4\n",
      "1\n",
      "**\n",
      "2\n",
      "****\n",
      "3\n",
      "*********\n",
      "4\n",
      "****************\n"
     ]
    }
   ],
   "source": [
    "n = int(input())\n",
    "for i in range(1,n+ 1):\n",
    "    \n",
    "    print(i)\n",
    "    if(i==1):\n",
    "        print(\"*\" * (2*i))\n",
    "    else:\n",
    "        print(\"*\" * (i*i))\n",
    "\n"
   ]
  },
  {
   "cell_type": "code",
   "execution_count": 160,
   "id": "2d95a6e1",
   "metadata": {},
   "outputs": [
    {
     "name": "stdout",
     "output_type": "stream",
     "text": [
      "5\n",
      "5\n",
      "#\n",
      "4\n",
      "##\n",
      "3\n",
      "###\n",
      "2\n",
      "####\n",
      "1\n",
      "#####\n"
     ]
    }
   ],
   "source": [
    "n = int(input())\n",
    "x =5\n",
    "for i in range(0,n):\n",
    "    print(x)\n",
    "    for i in range (0,i+1):\n",
    "        print(\"#\",end = \"\")\n",
    "    x = x-1   \n",
    "    print(\"\")\n",
    "        \n",
    "        "
   ]
  },
  {
   "cell_type": "code",
   "execution_count": null,
   "id": "573777ff",
   "metadata": {},
   "outputs": [],
   "source": []
  }
 ],
 "metadata": {
  "kernelspec": {
   "display_name": "Python 3 (ipykernel)",
   "language": "python",
   "name": "python3"
  },
  "language_info": {
   "codemirror_mode": {
    "name": "ipython",
    "version": 3
   },
   "file_extension": ".py",
   "mimetype": "text/x-python",
   "name": "python",
   "nbconvert_exporter": "python",
   "pygments_lexer": "ipython3",
   "version": "3.11.5"
  }
 },
 "nbformat": 4,
 "nbformat_minor": 5
}
