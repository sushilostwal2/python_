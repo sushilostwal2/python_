{
 "cells": [
  {
   "cell_type": "markdown",
   "id": "e0cf4ec8",
   "metadata": {},
   "source": [
    "## lcm"
   ]
  },
  {
   "cell_type": "code",
   "execution_count": 6,
   "id": "0081d66c",
   "metadata": {},
   "outputs": [
    {
     "name": "stdout",
     "output_type": "stream",
     "text": [
      "enter first number 12\n",
      "enter second number3\n",
      "LCM\n",
      "12\n"
     ]
    }
   ],
   "source": [
    "a = int(input(\"enter first number \"))\n",
    "b = int(input(\"enter second number\"))\n",
    "\n",
    "maxnum = max(a,b)\n",
    "\n",
    "while (True):\n",
    "    if (maxnum%a==0 and maxnum%b==0):\n",
    "        print(\"LCM\")\n",
    "        print(maxnum)\n",
    "        break \n",
    "    else:\n",
    "        maxnum+=1\n",
    "    \n",
    "    \n",
    "        "
   ]
  },
  {
   "cell_type": "markdown",
   "id": "a48894ee",
   "metadata": {},
   "source": [
    "## febonacii"
   ]
  },
  {
   "cell_type": "code",
   "execution_count": 15,
   "id": "92abbc66",
   "metadata": {},
   "outputs": [
    {
     "name": "stdout",
     "output_type": "stream",
     "text": [
      "10\n",
      "[0, 1, 1, 2, 3, 5, 8, 13, 21, 34]\n"
     ]
    }
   ],
   "source": [
    "n = int(input())\n",
    "a = 0\n",
    "b = 1\n",
    "fib_seq = [a,b]\n",
    "\n",
    "for i in range(2,n):\n",
    "    f = a+b\n",
    "    a=b\n",
    "    b=f\n",
    "    fib_seq.append(b)\n",
    "print(fib_seq)"
   ]
  },
  {
   "cell_type": "markdown",
   "id": "fc9eb2ad",
   "metadata": {},
   "source": [
    "## Armstron number "
   ]
  },
  {
   "cell_type": "code",
   "execution_count": 20,
   "id": "23d6b3f8",
   "metadata": {},
   "outputs": [
    {
     "name": "stdout",
     "output_type": "stream",
     "text": [
      "153\n",
      "Armstron number\n",
      "3\n",
      "0\n",
      "153\n"
     ]
    }
   ],
   "source": [
    "num = int(input())\n",
    "a = num\n",
    "z = num\n",
    "b = 0\n",
    "c = 0\n",
    "while (z>0):\n",
    "    \n",
    "    c+=1\n",
    "    z = z//10\n",
    "while (a>0):\n",
    "    n = a%10\n",
    "    b = n**c +b\n",
    "    a = a//10\n",
    "if num == b:\n",
    "    print('Armstron number')\n",
    "else:\n",
    "    print(\" Not armstorn number\")\n",
    "print(c)\n",
    "print(a)\n",
    "print(b)"
   ]
  },
  {
   "cell_type": "code",
   "execution_count": 2,
   "id": "ea649bb5",
   "metadata": {},
   "outputs": [
    {
     "name": "stdout",
     "output_type": "stream",
     "text": [
      "Rajsthan\n"
     ]
    }
   ],
   "source": [
    "a = 'Rajasthan'\n",
    "def remove_index(n):\n",
    "    b = a[0:3]\n",
    "    d = a[4:]\n",
    "    \n",
    "    print(b+d)\n",
    "remove_index(a)"
   ]
  },
  {
   "cell_type": "markdown",
   "id": "09333208",
   "metadata": {},
   "source": [
    "## naive byes method "
   ]
  },
  {
   "cell_type": "code",
   "execution_count": 12,
   "id": "762ed43d",
   "metadata": {},
   "outputs": [
    {
     "name": "stdout",
     "output_type": "stream",
     "text": [
      "Enter the string :werr\n",
      "werr\n",
      "werr\n",
      "werr\n",
      "werr\n"
     ]
    }
   ],
   "source": [
    "x = input(\"Enter the string :\")\n",
    "b = len(x)//2\n",
    "for i in (x):\n",
    "    if i == b:\n",
    "        i.upper()\n",
    "    print(x)"
   ]
  },
  {
   "cell_type": "code",
   "execution_count": 8,
   "id": "3b44ec7d",
   "metadata": {},
   "outputs": [
    {
     "name": "stdout",
     "output_type": "stream",
     "text": [
      "RAJAsthan\n"
     ]
    }
   ],
   "source": [
    "text = \"rajasthan\"\n",
    "half = len(text) // 2\n",
    "result = ''\n",
    "\n",
    "for i in range(half):\n",
    "    result+=text[i].upper()\n",
    "\n",
    "for i in range(half, len(text)):\n",
    "    result+=text[i]\n",
    "\n",
    "print(result)"
   ]
  },
  {
   "cell_type": "code",
   "execution_count": 68,
   "id": "8cdee80a",
   "metadata": {},
   "outputs": [
    {
     "name": "stdout",
     "output_type": "stream",
     "text": [
      "errtty\n",
      "erffgg\n",
      "3\n",
      "['e', 'r', 'r']\n"
     ]
    }
   ],
   "source": [
    "string1 = input()\n",
    "string2 =input()\n",
    "\n",
    "count = 0\n",
    "list = []\n",
    "for i in range(0,len(string1)):\n",
    "    for j in range(0,len(string2)):\n",
    "        if string1[i]==string2[j]:\n",
    "            list.append(string1[i])\n",
    "            count+=1\n",
    "             \n",
    "            \n",
    "            \n",
    "print(count)\n",
    "print(list)"
   ]
  },
  {
   "cell_type": "code",
   "execution_count": 75,
   "id": "ed4a7ef2",
   "metadata": {},
   "outputs": [
    {
     "name": "stdout",
     "output_type": "stream",
     "text": [
      "Enter the string: wertyyu\n",
      "Enter the finding sting: werdfghj\n",
      "3\n",
      "{'w': 1, 'e': 1, 'r': 1, 't': 1, 'y': 1, 'u': 1}\n"
     ]
    }
   ],
   "source": [
    "a = input(\"Enter the string: \")\n",
    "b = input('Enter the finding sting: ')\n",
    "count = 0\n",
    "dic = {}\n",
    "key = 1\n",
    "for i in (a):\n",
    "\n",
    "    \n",
    "    for j in (b):\n",
    "\n",
    "        if (j == i) and (i not in  dic) :\n",
    "            count=count+1\n",
    "            break\n",
    "        \n",
    "    dic[i] = key\n",
    "        \n",
    "print(count)\n",
    "print(dic)"
   ]
  },
  {
   "cell_type": "markdown",
   "id": "4b192f6d",
   "metadata": {},
   "source": [
    "## remove doublicate charactor through dict."
   ]
  },
  {
   "cell_type": "code",
   "execution_count": 2,
   "id": "ca54c44e",
   "metadata": {},
   "outputs": [
    {
     "name": "stdout",
     "output_type": "stream",
     "text": [
      "Enter the sting: suuusssshhhiiilll\n",
      "suhil\n"
     ]
    }
   ],
   "source": [
    "n = input(\"Enter the sting: \")\n",
    "dictionary = {}\n",
    "x = 1\n",
    "string = ''\n",
    "for i in n:\n",
    "    if (i not in dictionary):\n",
    "        string =string + i\n",
    "        \n",
    "    dictionary[i] =x\n",
    "print(string)"
   ]
  },
  {
   "cell_type": "markdown",
   "id": "9aa59b3a",
   "metadata": {},
   "source": [
    "## remove doublicate charactor through list "
   ]
  },
  {
   "cell_type": "code",
   "execution_count": null,
   "id": "0cd55e65",
   "metadata": {},
   "outputs": [],
   "source": [
    "n = input(\"Enter the sting: \")\n",
    "list = []\n",
    "x = 1\n",
    "string = ''\n",
    "for i in n:\n",
    "    if (i not in list):\n",
    "        string =string + i\n",
    "        \n",
    "    list.append(i)\n",
    "print(string)"
   ]
  },
  {
   "cell_type": "markdown",
   "id": "8b1cc97d",
   "metadata": {},
   "source": [
    "## least frequent charctor in word "
   ]
  },
  {
   "cell_type": "code",
   "execution_count": 1,
   "id": "51b02178",
   "metadata": {},
   "outputs": [
    {
     "name": "stdout",
     "output_type": "stream",
     "text": [
      "Enter a stringbxxtta\n",
      "b\n"
     ]
    }
   ],
   "source": [
    "string = input(\"Enter a string\")\n",
    "\n",
    "dictionary = {}\n",
    "\n",
    "for i in string:\n",
    "    if i in dictionary:\n",
    "        dictionary[i]+=1\n",
    "    else:\n",
    "        dictionary[i] = 1\n",
    "        \n",
    "min_key = min(dictionary,key = dictionary.get)\n",
    "print(min_key)\n"
   ]
  },
  {
   "cell_type": "code",
   "execution_count": null,
   "id": "cb75efcd",
   "metadata": {},
   "outputs": [],
   "source": []
  },
  {
   "cell_type": "code",
   "execution_count": null,
   "id": "3153dc44",
   "metadata": {},
   "outputs": [],
   "source": []
  }
 ],
 "metadata": {
  "kernelspec": {
   "display_name": "Python 3 (ipykernel)",
   "language": "python",
   "name": "python3"
  },
  "language_info": {
   "codemirror_mode": {
    "name": "ipython",
    "version": 3
   },
   "file_extension": ".py",
   "mimetype": "text/x-python",
   "name": "python",
   "nbconvert_exporter": "python",
   "pygments_lexer": "ipython3",
   "version": "3.11.5"
  }
 },
 "nbformat": 4,
 "nbformat_minor": 5
}
